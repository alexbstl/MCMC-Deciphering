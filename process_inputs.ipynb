{
 "cells": [
  {
   "cell_type": "code",
   "execution_count": 14,
   "metadata": {},
   "outputs": [
    {
     "name": "stdout",
     "output_type": "stream",
     "text": [
      "Wrote file 1\n",
      "Wrote file 2\n",
      "Wrote file 3\n",
      "Wrote file 4\n",
      "Wrote file 5\n",
      "Wrote file 6\n",
      "Wrote file 7\n",
      "Wrote file 8\n",
      "Wrote file 9\n",
      "Wrote file 10\n",
      "Wrote file 11\n",
      "Wrote file 12\n",
      "Wrote file 13\n",
      "Wrote file 14\n",
      "Wrote file 15\n",
      "Wrote file 16\n",
      "Wrote file 17\n",
      "Wrote file 18\n",
      "Wrote file 19\n",
      "Wrote file 20\n",
      "Wrote file 21\n",
      "Wrote file 22\n"
     ]
    }
   ],
   "source": [
    "import csv\n",
    "with open('data/Project Survey Survey Student Analysis Report.csv') as csv_file:\n",
    "    csv_reader=csv.reader(csv_file, delimiter=',')\n",
    "    line_count = 0\n",
    "    for row in csv_reader:\n",
    "        if line_count == 0:\n",
    "            #print(f'Column names are {\", \".join(row)}')\n",
    "            line_count += 1\n",
    "        else:\n",
    "            with open(f'data/student_original/{line_count}.txt','wt') as new_file:\n",
    "                new_file.write(row[8])\n",
    "            print(f\"Wrote file {line_count}\")\n",
    "            line_count +=1\n"
   ]
  },
  {
   "cell_type": "code",
   "execution_count": 6,
   "metadata": {},
   "outputs": [
    {
     "data": {
      "text/plain": [
       "'/Users/alex/Documents/MCMC-Deciphering'"
      ]
     },
     "execution_count": 6,
     "metadata": {},
     "output_type": "execute_result"
    }
   ],
   "source": [
    "import os\n",
    "\n",
    "directory = {}"
   ]
  },
  {
   "cell_type": "code",
   "execution_count": null,
   "metadata": {},
   "outputs": [],
   "source": []
  }
 ],
 "metadata": {
  "kernelspec": {
   "display_name": "Python 3",
   "language": "python",
   "name": "python3"
  },
  "language_info": {
   "codemirror_mode": {
    "name": "ipython",
    "version": 3
   },
   "file_extension": ".py",
   "mimetype": "text/x-python",
   "name": "python",
   "nbconvert_exporter": "python",
   "pygments_lexer": "ipython3",
   "version": "3.10.9"
  },
  "orig_nbformat": 4,
  "vscode": {
   "interpreter": {
    "hash": "415ac8d6cafc15fb0d7615085285da1effac724f45c0fa26b21a14337ba5dd35"
   }
  }
 },
 "nbformat": 4,
 "nbformat_minor": 2
}
